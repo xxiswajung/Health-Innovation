{
 "cells": [
  {
   "cell_type": "code",
   "execution_count": 13,
   "id": "7d2a621b-4e22-4978-9205-60f674bc50f4",
   "metadata": {},
   "outputs": [
    {
     "name": "stderr",
     "output_type": "stream",
     "text": [
      "/var/folders/s8/5rrw77y553vc4scyrbx8sdg40000gn/T/ipykernel_85733/3997312260.py:4: DtypeWarning: Columns (22,23,24,25,56,57,58,59,60,61,62,64,65,66,67,68,69,70,71,72,73,74,90,91,92,98,100,102,106,107,108,111,113,114,115,116,117,118,119,120,121,128,137,138,139,143,144,146,147,148,149,151,153,154) have mixed types. Specify dtype option on import or set low_memory=False.\n",
      "  df = pd.read_csv('Cancer_Dump.csv')\n"
     ]
    }
   ],
   "source": [
    "import pandas as pd\n",
    "\n",
    "# Load the CSV file into a DataFrame\n",
    "df = pd.read_csv('Cancer_Dump.csv')"
   ]
  },
  {
   "cell_type": "code",
   "execution_count": null,
   "id": "d3c50c46-c6a8-4564-a798-82c5d725136e",
   "metadata": {},
   "outputs": [],
   "source": [
    "slice_df = df[df['protocolSection.identificationModule.nctId'] == 'NCT05705401']\n",
    "slice_df.to_csv('filtered_data_NCT05705401.csv', index=False)"
   ]
  },
  {
   "cell_type": "code",
   "execution_count": 50,
   "id": "057fc01d-b01d-4e38-8f5d-88676df17194",
   "metadata": {},
   "outputs": [],
   "source": [
    "import ast\n",
    "\n",
    "def extract_intervention_types(interventions):\n",
    "    # interventions가 문자열이면 리스트로 변환 시도\n",
    "    if isinstance(interventions, str):\n",
    "        try:\n",
    "            interventions = ast.literal_eval(interventions)  # 문자열을 리스트로 변환\n",
    "        except (ValueError, SyntaxError):\n",
    "            return []  # 변환할 수 없는 경우 빈 리스트 반환\n",
    "    \n",
    "    # interventions가 리스트이면 'type' 값 추출\n",
    "    if isinstance(interventions, list):\n",
    "        return [item['type'] for item in interventions if isinstance(item, dict) and 'type' in item]\n",
    "    \n",
    "    return []  # 리스트가 아닌 경우 빈 리스트 반환\n"
   ]
  },
  {
   "cell_type": "code",
   "execution_count": 56,
   "id": "647fd8c1-a425-4c2a-9999-1e4be5b4469a",
   "metadata": {},
   "outputs": [
    {
     "name": "stderr",
     "output_type": "stream",
     "text": [
      "/var/folders/s8/5rrw77y553vc4scyrbx8sdg40000gn/T/ipykernel_85733/3870981645.py:2: UserWarning: The argument 'infer_datetime_format' is deprecated and will be removed in a future version. A strict version of it is now the default, see https://pandas.pydata.org/pdeps/0004-consistent-to-datetime-parsing.html. You can safely remove this argument.\n",
      "  df['completion_date'] = pd.to_datetime(df['protocolSection.statusModule.completionDateStruct.date'], errors='coerce', infer_datetime_format=True)\n",
      "/var/folders/s8/5rrw77y553vc4scyrbx8sdg40000gn/T/ipykernel_85733/3870981645.py:9: UserWarning: The argument 'infer_datetime_format' is deprecated and will be removed in a future version. A strict version of it is now the default, see https://pandas.pydata.org/pdeps/0004-consistent-to-datetime-parsing.html. You can safely remove this argument.\n",
      "  df['start_date'] = pd.to_datetime(df['protocolSection.statusModule.startDateStruct.date'], errors='coerce', infer_datetime_format=True)\n",
      "/var/folders/s8/5rrw77y553vc4scyrbx8sdg40000gn/T/ipykernel_85733/3870981645.py:12: UserWarning: The argument 'infer_datetime_format' is deprecated and will be removed in a future version. A strict version of it is now the default, see https://pandas.pydata.org/pdeps/0004-consistent-to-datetime-parsing.html. You can safely remove this argument.\n",
      "  df['primary_start_date'] = pd.to_datetime(df['protocolSection.statusModule.primaryCompletionDateStruct.date'], errors='coerce', infer_datetime_format=True)\n"
     ]
    },
    {
     "name": "stdout",
     "output_type": "stream",
     "text": [
      "The number of data from January 2008 to December 31th 2021: 3236\n"
     ]
    }
   ],
   "source": [
    "#1. completion date between 2008.01-2021.12.31\n",
    "df['completion_date'] = pd.to_datetime(df['protocolSection.statusModule.completionDateStruct.date'], errors='coerce', infer_datetime_format=True)\n",
    "\n",
    "# set the range of date\n",
    "start_date = '2008-01-01'\n",
    "end_date = '2021-12-31'\n",
    "\n",
    "#2. Have start data\n",
    "df['start_date'] = pd.to_datetime(df['protocolSection.statusModule.startDateStruct.date'], errors='coerce', infer_datetime_format=True)\n",
    "\n",
    "#3. Have primary start date\n",
    "df['primary_start_date'] = pd.to_datetime(df['protocolSection.statusModule.primaryCompletionDateStruct.date'], errors='coerce', infer_datetime_format=True)\n",
    "\n",
    "#4. Include Phase 1 and 4\n",
    "def include_phases(phases):\n",
    "    if isinstance(phases, str):\n",
    "        try:\n",
    "            phases = ast.literal_eval(phases)\n",
    "        except (ValueError, SyntaxError):\n",
    "            return False  \n",
    "    if isinstance(phases, list):\n",
    "        return any(phase in ['PHASE2', 'PHASE3'] for phase in phases)\n",
    "    \n",
    "    return False\n",
    "\n",
    "#5. Sponsor contains oncology OR trials reported results at Oncology\n",
    "# protocolSection.sponsorCollaboratorsModule.leadSponsor.name\n",
    "# df['sponsor'] = df['protocolSection.identificationModule.organization.fullName']\n",
    "\n",
    "#6. Recruitment Status is Completed\n",
    "df['Recruitment'] = df['protocolSection.statusModule.overallStatus']\n",
    "\n",
    "#7. studyType is Interventional\n",
    "df['Interventional']= df['protocolSection.designModule.studyType']\n",
    "\n",
    "#8. Inverventional type is drug or biological\n",
    "df['InterventionalType'] = df['protocolSection.armsInterventionsModule.interventions'].apply(extract_intervention_types)\n",
    "\n",
    "filtered_df = df[(df['completion_date'] >= start_date) & \n",
    "                 (df['completion_date'] <= end_date) &\n",
    "                 (df['start_date'].notna()) &\n",
    "                 (df['primary_start_date'].notna()) &\n",
    "                 (df['protocolSection.designModule.phases'].apply(include_phases)) &\n",
    "                 (df['Recruitment']=='COMPLETED') &\n",
    "                 (df['Interventional']=='INTERVENTIONAL')&\n",
    "                 (df['InterventionalType'].apply(lambda x: 'BIOLOGICAL' in x or 'DRUG' in x)) ]\n",
    "\n",
    "# print the number of filtered data\n",
    "count = filtered_df.shape[0]\n",
    "print(f\"The number of data from January 2008 to December 31th 2021: {count}\")"
   ]
  },
  {
   "cell_type": "code",
   "execution_count": 57,
   "id": "f71d41ba-f001-4f62-9a0f-4c3cca0ad279",
   "metadata": {},
   "outputs": [
    {
     "name": "stdout",
     "output_type": "stream",
     "text": [
      "Data saved to 'PaperFiltered_v1.csv'.\n"
     ]
    }
   ],
   "source": [
    "filtered_df.to_csv('PaperFiltered_v1.csv', index=False)\n",
    "print(\"Data saved to 'PaperFiltered_v1.csv'.\")"
   ]
  },
  {
   "cell_type": "code",
   "execution_count": 55,
   "id": "625e335c-0d13-45ee-97d6-5f1e4a563162",
   "metadata": {},
   "outputs": [
    {
     "name": "stdout",
     "output_type": "stream",
     "text": [
      "26236\n"
     ]
    }
   ],
   "source": [
    "import ast\n",
    "\n",
    "def extract_intervention_types(interventions):\n",
    "    # interventions가 문자열이면 리스트로 변환 시도\n",
    "    if isinstance(interventions, str):\n",
    "        try:\n",
    "            interventions = ast.literal_eval(interventions)  # 문자열을 리스트로 변환\n",
    "        except (ValueError, SyntaxError):\n",
    "            return []  # 변환할 수 없는 경우 빈 리스트 반환\n",
    "    \n",
    "    # interventions가 리스트이면 'type' 값 추출\n",
    "    if isinstance(interventions, list):\n",
    "        return [item['type'] for item in interventions if isinstance(item, dict) and 'type' in item]\n",
    "    \n",
    "    return []  # 리스트가 아닌 경우 빈 리스트 반환\n",
    "df['InterventionalType'] = df['protocolSection.armsInterventionsModule.interventions'].apply(extract_intervention_types)\n",
    "\n",
    "# 필터링된 데이터가 리스트에 'BIOLOGICAL' 또는 'DRUG'가 포함된 경우를 찾음\n",
    "filtered_df = df[df['InterventionalType'].apply(lambda x: 'BIOLOGICAL' in x or 'DRUG' in x)]\n",
    "\n",
    "# 필터링된 데이터의 개수 출력\n",
    "print(filtered_df.shape[0])\n"
   ]
  },
  {
   "cell_type": "code",
   "execution_count": null,
   "id": "1d470ed5-e1f8-4943-bba8-6da58f81569c",
   "metadata": {},
   "outputs": [],
   "source": []
  }
 ],
 "metadata": {
  "kernelspec": {
   "display_name": "Python 3 (ipykernel)",
   "language": "python",
   "name": "python3"
  },
  "language_info": {
   "codemirror_mode": {
    "name": "ipython",
    "version": 3
   },
   "file_extension": ".py",
   "mimetype": "text/x-python",
   "name": "python",
   "nbconvert_exporter": "python",
   "pygments_lexer": "ipython3",
   "version": "3.10.6"
  }
 },
 "nbformat": 4,
 "nbformat_minor": 5
}
