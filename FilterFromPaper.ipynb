{
 "cells": [
  {
   "cell_type": "code",
   "execution_count": 11,
   "id": "7d2a621b-4e22-4978-9205-60f674bc50f4",
   "metadata": {},
   "outputs": [
    {
     "name": "stderr",
     "output_type": "stream",
     "text": [
      "/var/folders/s8/5rrw77y553vc4scyrbx8sdg40000gn/T/ipykernel_36852/2305914882.py:4: DtypeWarning: Columns (22,23,24,25,56,57,58,59,60,61,62,63,64,65,66,67,68,69,70,71,72,73,74,90,91,92,98,100,108,111,113,114,115,116,117,118,119,120,121,122,123,128,137,138,139,141,142,143,144,145,146,147,151,152,153,154) have mixed types. Specify dtype option on import or set low_memory=False.\n",
      "  df = pd.read_csv('merged_Dump.csv')\n"
     ]
    }
   ],
   "source": [
    "import pandas as pd\n",
    "\n",
    "# Load the CSV file into a DataFrame\n",
    "df = pd.read_csv('merged_Dump.csv')"
   ]
  },
  {
   "cell_type": "code",
   "execution_count": 16,
   "id": "d3c50c46-c6a8-4564-a798-82c5d725136e",
   "metadata": {},
   "outputs": [],
   "source": [
    "slice_df = df[df['protocolSection.identificationModule.nctId'] == 'NCT05705401']\n",
    "slice_df.to_csv('filtered_data_NCT05705401.csv', index=False)"
   ]
  },
  {
   "cell_type": "code",
   "execution_count": 30,
   "id": "647fd8c1-a425-4c2a-9999-1e4be5b4469a",
   "metadata": {},
   "outputs": [
    {
     "name": "stderr",
     "output_type": "stream",
     "text": [
      "/var/folders/s8/5rrw77y553vc4scyrbx8sdg40000gn/T/ipykernel_36852/1895934556.py:2: UserWarning: The argument 'infer_datetime_format' is deprecated and will be removed in a future version. A strict version of it is now the default, see https://pandas.pydata.org/pdeps/0004-consistent-to-datetime-parsing.html. You can safely remove this argument.\n",
      "  df['completion_date'] = pd.to_datetime(df['protocolSection.statusModule.completionDateStruct.date'], errors='coerce', infer_datetime_format=True)\n",
      "/var/folders/s8/5rrw77y553vc4scyrbx8sdg40000gn/T/ipykernel_36852/1895934556.py:9: UserWarning: The argument 'infer_datetime_format' is deprecated and will be removed in a future version. A strict version of it is now the default, see https://pandas.pydata.org/pdeps/0004-consistent-to-datetime-parsing.html. You can safely remove this argument.\n",
      "  df['start_date'] = pd.to_datetime(df['protocolSection.statusModule.startDateStruct.date'], errors='coerce', infer_datetime_format=True)\n",
      "/var/folders/s8/5rrw77y553vc4scyrbx8sdg40000gn/T/ipykernel_36852/1895934556.py:12: UserWarning: The argument 'infer_datetime_format' is deprecated and will be removed in a future version. A strict version of it is now the default, see https://pandas.pydata.org/pdeps/0004-consistent-to-datetime-parsing.html. You can safely remove this argument.\n",
      "  df['primary_start_date'] = pd.to_datetime(df['protocolSection.statusModule.primaryCompletionDateStruct.date'], errors='coerce', infer_datetime_format=True)\n"
     ]
    },
    {
     "name": "stdout",
     "output_type": "stream",
     "text": [
      "2008년 1월부터 2021년 12월 31일까지의 데이터 개수: 539\n"
     ]
    }
   ],
   "source": [
    "#1. completion date between 2008.01-2021.12.31\n",
    "df['completion_date'] = pd.to_datetime(df['protocolSection.statusModule.completionDateStruct.date'], errors='coerce', infer_datetime_format=True)\n",
    "\n",
    "# set the range of date\n",
    "start_date = '2008-01-01'\n",
    "end_date = '2021-12-31'\n",
    "\n",
    "#2. Have start data\n",
    "df['start_date'] = pd.to_datetime(df['protocolSection.statusModule.startDateStruct.date'], errors='coerce', infer_datetime_format=True)\n",
    "\n",
    "#3. Have primary start date\n",
    "df['primary_start_date'] = pd.to_datetime(df['protocolSection.statusModule.primaryCompletionDateStruct.date'], errors='coerce', infer_datetime_format=True)\n",
    "\n",
    "#4. Exclude Phase 1 and 4\n",
    "def exclude_phases(phases):\n",
    "    if isinstance(phases, list):\n",
    "        return not any(phase in ['PHASE1', 'PHASE4'] for phase in phases)\n",
    "    return True\n",
    "\n",
    "#5. Sponsor contains oncology OR trials reported results at Oncology\n",
    "# protocolSection.sponsorCollaboratorsModule.leadSponsor.name\n",
    "df['sponsor'] = df['protocolSection.identificationModule.organization.fullName']\n",
    "\n",
    "#6. Recruitment Status is Completed\n",
    "df['Recruitment'] = df['protocolSection.statusModule.overallStatus']\n",
    "\n",
    "#7. studyType is Interventional\n",
    "df['Interventional']= df['protocolSection.designModule.studyType']\n",
    "\n",
    "filtered_df = df[(df['completion_date'] >= start_date) & \n",
    "                 (df['completion_date'] <= end_date) &\n",
    "                 (df['start_date'].notna()) &\n",
    "                 (df['primary_start_date'].notna()) &\n",
    "                 (df['protocolSection.designModule.phases'].apply(exclude_phases)) &\n",
    "                 (df['sponsor'].str.contains('oncology', case=False, na=False)) &\n",
    "                 (df['Recruitment']=='COMPLETED') &\n",
    "                 (df['Interventional']=='INTERVENTIONAL')]\n",
    "\n",
    "# print the number of filtered data\n",
    "count = filtered_df.shape[0]\n",
    "print(f\"The number of data from January 2008 to December 31th 2021: {count}\")"
   ]
  },
  {
   "cell_type": "code",
   "execution_count": null,
   "id": "26047b3c-d7a8-4e55-920e-d48e47377ddb",
   "metadata": {},
   "outputs": [],
   "source": []
  }
 ],
 "metadata": {
  "kernelspec": {
   "display_name": "Python 3 (ipykernel)",
   "language": "python",
   "name": "python3"
  },
  "language_info": {
   "codemirror_mode": {
    "name": "ipython",
    "version": 3
   },
   "file_extension": ".py",
   "mimetype": "text/x-python",
   "name": "python",
   "nbconvert_exporter": "python",
   "pygments_lexer": "ipython3",
   "version": "3.10.6"
  }
 },
 "nbformat": 4,
 "nbformat_minor": 5
}
