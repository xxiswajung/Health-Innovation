{
 "cells": [
  {
   "cell_type": "markdown",
   "id": "e0a62f85-fbe1-4c89-bc87-c15614eb68ed",
   "metadata": {},
   "source": [
    "## Get random NCT number from Dump file"
   ]
  },
  {
   "cell_type": "code",
   "execution_count": null,
   "id": "a029d383-9662-4fa5-8d7c-ba35fc03c51d",
   "metadata": {},
   "outputs": [],
   "source": [
    "import pandas as pd\n",
    "\n",
    "# Load the CSV file into a DataFrame\n",
    "df = pd.read_csv('combined_Dump_noResult.csv')\n",
    "\n",
    "# Randomly select 10 entries from the 'protocolSection.identificationModule.nctId' column\n",
    "random_entries = df['protocolSection.identificationModule.nctId'].sample(n=10, random_state=1)\n",
    "\n",
    "# Print the 10 random entries\n",
    "print(random_entries)\n"
   ]
  },
  {
   "cell_type": "markdown",
   "id": "b40b2b4b-54c6-4e38-86d8-d1f5f6605061",
   "metadata": {},
   "source": [
    "## Get random top 10 entries from Dump file\n",
    "##### Since the dump file is really big, it is hard to open the file in computer. \n",
    "##### If you want to check the dump file, you can slice the dump file into small size by using this code."
   ]
  },
  {
   "cell_type": "code",
   "execution_count": 8,
   "id": "b8549701",
   "metadata": {},
   "outputs": [
    {
     "name": "stderr",
     "output_type": "stream",
     "text": [
      "/var/folders/s8/5rrw77y553vc4scyrbx8sdg40000gn/T/ipykernel_32122/1040602970.py:4: DtypeWarning: Columns (11,22,23,24,25,49,56,57,58,59,60,61,62,64,65,66,67,68,69,70,71,72,73,74,90,91,92,95,96,98,100,101,102,103,104,106,107,108,113,114,115,116,117,118,119,120,128,138,139,143,144,146,147,148,149) have mixed types. Specify dtype option on import or set low_memory=False.\n",
      "  df = pd.read_csv('BreastCancer_Merged_addDummyColumn_addCountColumns_Primary_Secondary.csv')  # Replace 'path_to_your_csv_file.csv' with your actual file path\n"
     ]
    },
    {
     "name": "stdout",
     "output_type": "stream",
     "text": [
      "The top 10 entries have been saved.\n"
     ]
    }
   ],
   "source": [
    "import pandas as pd\n",
    "\n",
    "# Load the CSV file into a DataFrame\n",
    "df = pd.read_csv('BreastCancer_Merged_addDummyColumn_addCountColumns_Primary_Secondary.csv')  # Replace 'path_to_your_csv_file.csv' with your actual file path\n",
    "# df = df[(df['breast_cancer_dummy'] == 1)]\n",
    "# Extract the last 10 entries of the DataFrame\n",
    "last_ten_entries = df.head(10)\n",
    "\n",
    "# Save the last 10 entries to a new CSV file\n",
    "last_ten_entries.to_csv('10entries_from_BreastCancer_Merged_addDummyColumn_addCountColumns_Primary_Secondary.csv', index=False)\n",
    "\n",
    "print(\"The top 10 entries have been saved.\")"
   ]
  },
  {
   "cell_type": "markdown",
   "id": "f107cd47-97c8-43a6-acfd-17556274ffa5",
   "metadata": {},
   "source": [
    "## Concat two Dump file"
   ]
  },
  {
   "cell_type": "code",
   "execution_count": 4,
   "id": "087163cd",
   "metadata": {},
   "outputs": [
    {
     "name": "stderr",
     "output_type": "stream",
     "text": [
      "/var/folders/s8/5rrw77y553vc4scyrbx8sdg40000gn/T/ipykernel_97125/1190601109.py:3: DtypeWarning: Columns (49,63,106,107,137,138,139,140,141,142,143,144,145) have mixed types. Specify dtype option on import or set low_memory=False.\n",
      "  df1 = pd.read_csv('Dump_validResult.csv')\n",
      "/var/folders/s8/5rrw77y553vc4scyrbx8sdg40000gn/T/ipykernel_97125/1190601109.py:4: DtypeWarning: Columns (67,78,87,91,92,101,102,103,104,106,108,109,110,111,112,113,114,115,116,117,118,119,120,121,122,123,124,126,127,128,129,130,131,132,133,134,135,136,137,138,139,140,141,142,143,144,145,146,147,148,149,150,151,152,153,154) have mixed types. Specify dtype option on import or set low_memory=False.\n",
      "  df2 = pd.read_csv('combined_Dump_noResult.csv')\n"
     ]
    },
    {
     "name": "stdout",
     "output_type": "stream",
     "text": [
      "Merged and sorted data saved to 'merged_Dump.csv'.\n"
     ]
    }
   ],
   "source": [
    "import pandas as pd\n",
    "\n",
    "df1 = pd.read_csv('Dump_validResult.csv')\n",
    "df2 = pd.read_csv('combined_Dump_noResult.csv')\n",
    "\n",
    "# You can choose how to handle discrepancies (e.g., using outer, inner, left, or right join)\n",
    "combined_df = pd.concat([df1, df2], ignore_index=True)\n",
    "\n",
    "# Sort the merged DataFrame by 'NCT number' in ascending order\n",
    "merged_df = combined_df.sort_values(by='protocolSection.identificationModule.nctId', ascending=True)\n",
    "\n",
    "# Save the sorted, merged DataFrame to a new CSV file\n",
    "merged_df.to_csv('merged_Dump.csv', index=False)\n",
    "\n",
    "print(\"Merged and sorted data saved to 'merged_Dump.csv'.\")\n"
   ]
  },
  {
   "cell_type": "markdown",
   "id": "f845a988-d106-469c-a8af-b01d4247b56f",
   "metadata": {},
   "source": [
    "## Show the different columns between two files"
   ]
  },
  {
   "cell_type": "code",
   "execution_count": 2,
   "id": "417367e2",
   "metadata": {},
   "outputs": [
    {
     "name": "stdout",
     "output_type": "stream",
     "text": [
      "139\n",
      "Columns only in the first CSV: {'protocolSection.eligibilityModule.genderDescription', 'protocolSection.statusModule.expandedAccessInfo.statusForNctId', 'protocolSection.statusModule.expandedAccessInfo.nctId', 'protocolSection.referencesModule.availIpds', 'protocolSection.statusModule.lastKnownStatus'}\n",
      "Columns only in the second CSV: {'protocolSection.designModule.bioSpec.retention', 'protocolSection.designModule.bioSpec.description'}\n"
     ]
    }
   ],
   "source": [
    "import pandas as pd\n",
    "\n",
    "# Load the two CSV files into DataFrames\n",
    "df1 = pd.read_csv('hasResult_100RandomDump.csv')  # Adjust the path to your first CSV file\n",
    "df2 = pd.read_csv('hasResult_100_2_RandomDump.csv')  # Adjust the path to your second CSV file\n",
    "\n",
    "# Get the sets of columns from each DataFrame\n",
    "columns_df1 = set(df1.columns)\n",
    "columns_df2 = set(df2.columns)\n",
    "\n",
    "# Find columns that are not common between the two DataFrames\n",
    "columns_only_in_df1 = columns_df1.difference(columns_df2)\n",
    "columns_only_in_df2 = columns_df2.difference(columns_df1)\n",
    "print(len(columns_df1))\n",
    "# Output the results\n",
    "print(\"Columns only in the first CSV:\", columns_only_in_df1)\n",
    "print(\"Columns only in the second CSV:\", columns_only_in_df2)\n"
   ]
  },
  {
   "cell_type": "markdown",
   "id": "c8ab112a-3abc-42bb-bc93-787fb6d3638c",
   "metadata": {},
   "source": [
    "## Concat several Dump file into single file"
   ]
  },
  {
   "cell_type": "code",
   "execution_count": 3,
   "id": "3835e6e8",
   "metadata": {},
   "outputs": [
    {
     "name": "stderr",
     "output_type": "stream",
     "text": [
      "/var/folders/s8/5rrw77y553vc4scyrbx8sdg40000gn/T/ipykernel_8625/1389069263.py:15: DtypeWarning: Columns (9,79,80,106,108,109,110,111,112,113,114,115,116,117,118,119,120,121,122,123,124,126,127,128,129,130,131,132,133,134,135,136,137,138,139,140,141,142,143,144,145,146,147) have mixed types. Specify dtype option on import or set low_memory=False.\n",
      "  df = pd.read_csv('combined_test.csv')\n"
     ]
    },
    {
     "name": "stdout",
     "output_type": "stream",
     "text": [
      "'protocolSection.identificationModule.organization.fullName' 값의 개수: 0\n"
     ]
    }
   ],
   "source": [
    "import pandas as pd\n",
    "\n",
    "# In csv_list, the elements should be in the same folder. Otherwise, you should edit the elements into the path of file.\n",
    "csv_list = ['Dump_noResult_1', 'Dump_noResult_2','Dump_noResult_3','Dump_noResult_4','Dump_noResult_5','Dump_noResult_6','Dump_noResult_7']\n",
    "csv_data = {}\n",
    "\n",
    "for file in csv_list:\n",
    "    csv_data[file] = pd.read_csv(f'{file}.csv')\n",
    "\n",
    "combined_csv = pd.concat(csv_data.values())\n",
    "combined_csv.to_csv( \"combined_Dump_noResult.csv\", index=False, encoding='utf-8-sig') "
   ]
  }
 ],
 "metadata": {
  "kernelspec": {
   "display_name": "Python 3 (ipykernel)",
   "language": "python",
   "name": "python3"
  },
  "language_info": {
   "codemirror_mode": {
    "name": "ipython",
    "version": 3
   },
   "file_extension": ".py",
   "mimetype": "text/x-python",
   "name": "python",
   "nbconvert_exporter": "python",
   "pygments_lexer": "ipython3",
   "version": "3.10.6"
  }
 },
 "nbformat": 4,
 "nbformat_minor": 5
}
